{
 "cells": [
  {
   "cell_type": "markdown",
   "metadata": {},
   "source": [
    "# Cythonized American Binomial Model"
   ]
  },
  {
   "cell_type": "code",
   "execution_count": 2,
   "metadata": {},
   "outputs": [
    {
     "ename": "SyntaxError",
     "evalue": "invalid syntax (<ipython-input-2-4edc036f3fde>, line 2)",
     "output_type": "error",
     "traceback": [
      "\u001b[1;36m  File \u001b[1;32m\"<ipython-input-2-4edc036f3fde>\"\u001b[1;36m, line \u001b[1;32m2\u001b[0m\n\u001b[1;33m    cimport numpy as np\u001b[0m\n\u001b[1;37m                ^\u001b[0m\n\u001b[1;31mSyntaxError\u001b[0m\u001b[1;31m:\u001b[0m invalid syntax\n"
     ]
    }
   ],
   "source": [
    "import numpy as np\n",
    "cimport numpy as np\n",
    "from scipy.stats import binom\n",
    "\n",
    "cdef class OptionFacade:\n",
    "    def__init__(self, option, engine, data):\n",
    "        self._option = option\n",
    "        self._engine = engine\n",
    "        self._data = data\n",
    "    cpdef price(self):\n",
    "        return self._engine.calculate(self._option, self._data)\n",
    "\n",
    "cdef class VanillaPayoff:\n",
    "    def__init__(self, strike, expiry):\n",
    "        self._strike = strike\n",
    "        self._expiry = expirty\n",
    "    cdef double value(self):\n",
    "        pass\n",
    "\n",
    "cdef class VanillaCallPayoff(VanillaPayoff):\n",
    "    cdef double value(self, spot):\n",
    "        return np.maximum(spot-self._strike, 0.0)\n",
    "\n",
    "cdef class VanillaPutPayoff(VanillaPayoff):\n",
    "    cdef double value(self, spot):\n",
    "        return np.maximum(self._strike - spot, 0.0)\n",
    "\n",
    "cdef class MarketData:\n",
    "    def__init__(self, spot, rate, vol, div):\n",
    "        self._spot = spot\n",
    "        self._rate = rate\n",
    "        self._vol = vol\n",
    "        self._div = div\n",
    "\n",
    "cdef class Option:\n",
    "    def__init__(self, expiry, payoff):\n",
    "        self._expiry = expiry\n",
    "        self._payoff= payoff\n",
    "    cpdef payoff(self, double spot):\n",
    "        return self._payoff.payoff(spot)\n",
    "    \n",
    "cdef class PriceEngine:\n",
    "    cdef double calculate(self, Option option, MarketData data):\n",
    "        pass\n",
    "\n",
    "cdef class BinomialEngine(PriceEngine):\n",
    "    def__init__(self, nsteps):\n",
    "        self._nsteps = nsteps\n",
    "    \n",
    "    cdef double calculate(self, Option option, MarketData data):\n",
    "        pass\n",
    "    \n",
    "\n",
    "#everywhere the binomial can go the american engine can go\n",
    "#cythonize the American python code\n",
    "cdef class AmericanBinomialEngine(BinomialEngine):\n",
    "    cdef double calculate(self, Option option, MarketData data):\n",
    "        cdef double dt = option.expiry / self._nsteps\n",
    "        cdef double u = np.exp((data.rate - data.div) * dt + data.vol * np.sqrt(dt))\n",
    "        cdef double d = np.exp((data.rate - data.div) * dt - data.vol * np.sqrt(dt))\n",
    "        cdef double pu = (np.exp((data.rate - data.div) * dt) - d) / (u - d)\n",
    "        cdef double pd = 1.0 - pu\n",
    "        cdef double disc = np.exp(-data.rate *dt)\n",
    "        cdef double dpu = disc * pu\n",
    "        cdef double dpd = disc * pd\n",
    "        cdef unsigned long numNodes = self._nsteps + 1\n",
    "        cdef double[::1] spot_t = np.empty(numNodes, dtype=np.float64)\n",
    "        cdef double[::1] call_t = np.empty(numNodes, dtype=np.float64)\n",
    "        cdef unsigned long i, j\n",
    "        \n",
    "        for i in range(numNodes):\n",
    "            spot_t[i] = data.spot * cpow(u, self._nsteps - i) * cpow(d, i)\n",
    "            call_t[i] = option.payoff(spot_t[i])\n",
    "        \n",
    "        for i in range(self._nsteps - 1, -1, -1):\n",
    "            for j in range(i +1):\n",
    "                call_t[j] = dpu * call_[j] + dpd * call_t[j+1]\n",
    "                spot_t[j] = spot_t[j] / u\n",
    "                call_t[j] = np.maximum(call_t[j], option.payoff(spot_t[j]))\n",
    "                \n",
    "        return call_t[0]\n",
    "\n",
    "strike = 40.0\n",
    "spot = 41.0\n",
    "rate = 0.08\n",
    "vol = 0.30\n",
    "div = 0.0\n",
    "steps = 500\n",
    "reps = 5000\n",
    "\n",
    "data = MarketData(spot, rate, vol, div)\n",
    "theCall = Option(1.0, VanillaCallPayoff(strike))\n",
    "thePut = Option(1.0, VanillaPutPayoff(strike))\n",
    "theEngine = AmericanBinomialEngine(steps)\n",
    "option1 = OptionFacade(theCall, theEngine, data)\n",
    "option2 = OptionFacade(thePut, theEngine, data)\n",
    "\n",
    "print(\"The call price is: {0:0.3f}\".format(option1.price()))\n",
    "print(\"The put price is : {0:0.3f}\".format(option2.price()))\n"
   ]
  },
  {
   "cell_type": "code",
   "execution_count": null,
   "metadata": {
    "collapsed": true
   },
   "outputs": [],
   "source": []
  }
 ],
 "metadata": {
  "kernelspec": {
   "display_name": "Python 3",
   "language": "python",
   "name": "python3"
  },
  "language_info": {
   "codemirror_mode": {
    "name": "ipython",
    "version": 3
   },
   "file_extension": ".py",
   "mimetype": "text/x-python",
   "name": "python",
   "nbconvert_exporter": "python",
   "pygments_lexer": "ipython3",
   "version": "3.6.1"
  }
 },
 "nbformat": 4,
 "nbformat_minor": 2
}
