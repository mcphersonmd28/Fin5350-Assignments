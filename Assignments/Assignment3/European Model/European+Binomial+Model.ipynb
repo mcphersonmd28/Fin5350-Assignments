{
 "cells": [
  {
   "cell_type": "markdown",
   "metadata": {},
   "source": [
    "## European Binomial Model"
   ]
  },
  {
   "cell_type": "code",
   "execution_count": 3,
   "metadata": {},
   "outputs": [
    {
     "name": "stdout",
     "output_type": "stream",
     "text": [
      "The price of the call is : 7.07385326128\n",
      "The price of the put is : 2.99850711674\n"
     ]
    }
   ],
   "source": [
    "import numpy as np\n",
    "from scipy.stats import binom\n",
    "\n",
    "class VanillaPayoff(object):\n",
    "    def __init__(self, strike, expiry):\n",
    "        self.strike = strike\n",
    "        self.expiry = expiry\n",
    "    def value(self):\n",
    "        pass\n",
    "    \n",
    "class VanillaCallPayoff(VanillaPayoff):\n",
    "    def value(self, spot):\n",
    "        return np.maximum(spot-self.strike,0.0)\n",
    "    \n",
    "class VanillaPutPayoff(VanillaPayoff):\n",
    "    def value(self, spot):\n",
    "        return np.maximum(self.strike-spot, 0.0)\n",
    "\n",
    "def EuropeanBinomialPricer(option, spot, rate, div, vol, steps):\n",
    "    nodes = steps + 1\n",
    "    spotT = 0.0\n",
    "    callT = 0.0\n",
    "    dt = T/steps\n",
    "    u = np.exp(((rate - div) * dt) + vol * np.sqrt(dt))\n",
    "    d = np.exp(((rate - div) * dt) - vol * np.sqrt(dt))\n",
    "    pu = (np.exp((rate - div) * dt) - d) / (u - d)\n",
    "    pd = 1 - pu\n",
    "    \n",
    "    for i in range(nodes):\n",
    "        spotT = spot * (u ** (steps - i)) * (d ** (i))\n",
    "        callT += option.value(spotT) * binom.pmf(steps - i, steps, pu)\n",
    "    \n",
    "    price = callT * np.exp(-rate*T)\n",
    "    \n",
    "    return price\n",
    "\n",
    "spot = 41.0\n",
    "K = 40.0\n",
    "rate = 0.08\n",
    "vol = 0.30\n",
    "div = 0.0\n",
    "T = 1.0\n",
    "N = 3\n",
    "\n",
    "theCall = VanillaCallPayoff(K, T)\n",
    "callPrice = EuropeanBinomialPricer(theCall, spot, rate, div, vol, N)\n",
    "print(\"The price of the call is :\", (callPrice))\n",
    "\n",
    "thePut = VanillaPutPayoff(K, T)\n",
    "putPrice = EuropeanBinomialPricer(thePut, spot, rate, div, vol, N)\n",
    "print(\"The price of the put is :\", (putPrice))\n",
    "    "
   ]
  },
  {
   "cell_type": "code",
   "execution_count": null,
   "metadata": {
    "collapsed": true
   },
   "outputs": [],
   "source": []
  }
 ],
 "metadata": {
  "kernelspec": {
   "display_name": "Python 3",
   "language": "python",
   "name": "python3"
  },
  "language_info": {
   "codemirror_mode": {
    "name": "ipython",
    "version": 3
   },
   "file_extension": ".py",
   "mimetype": "text/x-python",
   "name": "python",
   "nbconvert_exporter": "python",
   "pygments_lexer": "ipython3",
   "version": "3.6.1"
  }
 },
 "nbformat": 4,
 "nbformat_minor": 2
}
