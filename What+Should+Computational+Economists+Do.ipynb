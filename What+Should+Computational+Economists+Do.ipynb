{
 "cells": [
  {
   "cell_type": "markdown",
   "metadata": {},
   "source": [
    "# What Should Computational Economists Do?"
   ]
  },
  {
   "cell_type": "markdown",
   "metadata": {},
   "source": [
    "### By Madyson McPherson"
   ]
  },
  {
   "cell_type": "markdown",
   "metadata": {},
   "source": [
    "In James Buchanan's paper titled \"What Should Economists Do?\", he believes that economics as a field is narrowing.  Economists are concerned about utility functions and how individuals maximize that utility when choosing options.  They are worried about the allocation of scarce resources.  Buchanan believes that economists should not be worried about maximizing utility or scarce resources; instead, they should be focused on market and exchange processes instead (Buchanan 1964).  I agree with his sentiment, but this also means that not only should traditional economists change their view, but computational economists should as well.  This is why this paper is titled \"What Should Computational Economists Do?\".  If traditional economics needs to change to account for market processes so does computational economics.  This paper will address this necessary change by comparing Buchanan's paper to the need for good simulation that takes into account human error and the application of computation using human behavior."
   ]
  },
  {
   "cell_type": "markdown",
   "metadata": {},
   "source": [
    "## Simulation in the Social Sciences"
   ]
  },
  {
   "cell_type": "markdown",
   "metadata": {},
   "source": [
    "A paper written by Robert Axelrod, titled \"Advancing the Art of Simulation in the Social Sciences\", discusses simulation as a growing field in the social sciences.  He says that simulation can be used for prediction, performance, training, entertainment, education, proof, and discovery.  Simulation is a very useful tool and needs to be appreciated as such.  Many researchers in the field of social sciences use induction, creating a general principal from specific findings in data, or deduction, narrowing a general principal to specific findings.  Simulation is another methodology that is just as important as induction and deduction.  Simulation \"generates data that can be analyzed inductively...the simulated data come from a specified set of rules rather than direct measurement of the real world\" (Axelrod, pp. 17).  Simulation can be simple or complex.  As Axelrod explains, a simple simulation can deepen our \"understanding of some fundamental process\", while a complex simulation can give you accuracy (Axelrod, pp. 18).  Axelrod concludes that in order to progress the field of social science and to have simulation reach its full potential, there must be interaction among many different types of disciplines.  This interaction will create a \"community of reaserchers from all fields\" who are interested in realizing the full potential of simulation (Axelrod, pp. 22)."
   ]
  },
  {
   "cell_type": "markdown",
   "metadata": {},
   "source": [
    "## Simulation to Understand Markets"
   ]
  },
  {
   "cell_type": "markdown",
   "metadata": {},
   "source": [
    "Hua, Schwartz, and Sipress wrote a paper called \"Using Simlation to Better Understand Price Determination in a Nonfrictionless Equty Market\" that talks about using simulation as an analytic tool to understand price formation.  The authors say that if the simulation model is constructed accurately, you can \"assess a new market design feature before implementing it and generating operating data\" (Hua, Schwartz, Sipress, pp. 142).  Simulation can help to model theories and market designs without actually having to implement it to see if the theory will work or not.  In this paper, the authors look at how frictions affect market outcomes."
   ]
  },
  {
   "cell_type": "markdown",
   "metadata": {},
   "source": [
    "The authors first look at a frictionless market based on the Grossman and Stiglitz framework where there are investors who possess all information and there are investors who infer information from the market.  Grossman and Stiglitz make the assumption that the informed investors will make homogeneous decisions about future value and the investors who infor information will have rational expectations about the future value and price.  When the authors move to a nonfrictionless market, the authors let the participants have different expections.  This allows for each investor to have a different demand curve.  The authors ask the question: what happens when you have both information-driven investors and liquidity-driven investors?  They create a hybrid environment where both types of investors trade from orders drawn from different distributions instead of the same distribution (Hua, Schwartz, Sipress, pp. 144-145)."
   ]
  },
  {
   "cell_type": "markdown",
   "metadata": {},
   "source": [
    "The authors use simulation to test the hybrid environment where there are liquidity- and information-driven investors.  In the simulation, if the price is higher than the market then the information-driven investors would buy, and if the price is lower than the market then those investors would sell.  For the liquidity-driven investors, the quotes of the prices determine the behavior of the investors (Hua, Schwartz, Sipress, pp. 145)."
   ]
  },
  {
   "cell_type": "markdown",
   "metadata": {},
   "source": [
    "Hua, Schwatrz, and Sipress conclude that in a nonfrictionless market, \"the process in which orders are brought together and turned into trades is an important determinant of the quality or price formation\" (Hua, Schwartz, Sipress, pp. 156).  The authors found that when information- and liquidity-driven investors are modeled separately before being matched then the behavior of prices are affected.  The authors believe that their findings have implications for regulatory policy regarding market competition.  They believe that \"regulatory authorities should expand their focus to give more weight to intraday volatility, kurtosis, and autocorrelation patterns because these statistics are important reflections of the quality of price formation\" instead of focusing on competition between trading venues (Hua, Schwartz, Sipress, pp. 157)."
   ]
  },
  {
   "cell_type": "markdown",
   "metadata": {},
   "source": [
    "## Moving Economics toward an Experimental Science"
   ]
  },
  {
   "cell_type": "markdown",
   "metadata": {},
   "source": [
    "In this last paper titled \"A Plea for (Good) Simulations: Nudging Economics Toward an Experimental Science\", by Julian Reiss, the author believes that simulation is an underutilized methodology that can be used to draw conclusions in economics.  While the field of economics is becoming more experimental, the entire field cannot be entirely experimental due to ethical and practical reasons.  This does not mean that simulation cannot be used as an economic method."
   ]
  },
  {
   "cell_type": "markdown",
   "metadata": {},
   "source": [
    "Reiss proposes an alternative definition to simulation, different from other traditional definitions.  He defines simulation as: \"Simulations in econmics explore the properties of computer-implemented models; they are aimed at drawing inferences about properties of a socioeconomic system or socioeconomic systems of interest\" (Reiss, pp. 245).  Economics as a field is largly model based, and simulation, on the other hand, is rarely used as another tool.  Simulations offer more flexibility because simulations are not restrained by the conditions needed for real experiments.  Simulations can model more theories because they are not limited by ethical, practical, or technical reasons that real experiments are limited by."
   ]
  },
  {
   "cell_type": "markdown",
   "metadata": {},
   "source": [
    "Economists do not use simulation because they want certainty and a very specific understanding that simulation cannot provide.  Simulation results are not as certain as mathematical results.  Instead of using simulation for certainty, simulation can be used as an experiment.  Simulation can be used to make inferences about data.  There are strategies to make sure that simulation inferences are reliable: verification and validation."
   ]
  },
  {
   "cell_type": "markdown",
   "metadata": {},
   "source": [
    "Reiss argues that there is no \"reason to believe that simulations are less reliable than material experiemtns adn that simulations have some advantages over mathematical models because they are more flexible\" (Reiss, pp. 256).  Reiss quotes Steven Peck, who said that adopting simulation as an experiment will advance the fields of ecology and evolutionary biology.  Reiss believes the same of economics.  Simulations may not have mathematical elegance or certainty, but they are flexible which helps to overcome the constraining assumptions that mathematical models are restricted to."
   ]
  },
  {
   "cell_type": "markdown",
   "metadata": {},
   "source": [
    "## Necessary Changes in Compuation"
   ]
  },
  {
   "cell_type": "markdown",
   "metadata": {},
   "source": [
    "In the movie Sully, there is a scene where Captain Sullenberger, played by Tom Hanks, and Co-pilot Jeff Skiles, played by Aaron Eckhart, are at a public hearing by the National Transportation and Safety Board (NTSB) to listen to the cockpit recording and to examine flight simulations.  The simulations were performed to see if Sullenberger and Skiles could make it to either of the two airports instead of landing in the Hudson River.  The pilots in the simulations proved that Sullenberger and Skiles could have made it to the airports.  However, Sullenberger argues that the simulations do not take into account human error.  During the actual flight, Sullenberger and Skiles had to react quickly but they could not have predicted what would happen and what they needed to do in this event.  The pilots in the simulators, were notified of what they needed to do as soon as the engines went out and there was no hesitation.  If this had happened to any of the pilots in the simulations, there would have been hesitation.  Sullenberger asks for the simulations to take into account this hesitation so the NTSB asks for a 35 second pause after the engines blew and then head for the airports.  Once the pause was added into the simulation, it was shown that the pilots could not have made it to either of the airports and thus would have caused the deaths of the passengers and deaths of anyone in the area the plane landed."
   ]
  },
  {
   "cell_type": "markdown",
   "metadata": {},
   "source": [
    "This scene in the movie shows the difference between what economics is right now and what economics should evolve to be.  Right now most economists are using mathematical models to examine theories and collect data.  One such mathematical model is the utility function.  A utility function measures preferences over goods.  Utility is measured in utils which is the satisfaction a consumer gets from consuming the goods.  While utility functions do analyze how much \"happier\" a consumer gets from consuming one good over another, they do not take into account that a consumer might be equally as happy consuming both goods or that there might be something else that would make the consumer happier.  Utility functions, ultimately, do not take into account the human factor in choosing goods and services."
   ]
  },
  {
   "cell_type": "markdown",
   "metadata": {},
   "source": [
    "Simulation can take into account this human factor.  Even though simulations are still based on assumptions and there might not be humans in the simulation, like there were in Sully, researchers can still add human error or factors to the simulation.  This can make the simulation similar to a real life situation.  There will always be something that the simulation cannot take into account, but the simulation can still provide more information than a utility function."
   ]
  },
  {
   "cell_type": "markdown",
   "metadata": {},
   "source": [
    "I am not saying that there is not a need for utility functions.  Utility functions still provide important and necessary information that is useful in interpreting and understanding the world around us.  However, simulations can also be used to add to that understanding.  In the paper by Hua, Schwartz, and Sipress, they quote Focardi and Fabozzi saying: \"...the evolution of modern economics will likely require new, possibly different, mathematical concepts\" (Hua, Schwartz, Sipress, pp. 156).  This is very true.  As I mentioned above, simulation is an important modeling tool that can be added to the economic analysis toolset along with mathematical models. "
   ]
  },
  {
   "cell_type": "markdown",
   "metadata": {},
   "source": [
    "## Conclusion"
   ]
  },
  {
   "cell_type": "markdown",
   "metadata": {},
   "source": [
    "In conclusion, simulation is an important tool that should be used more in the field of economics.  If simulation is used more, how economics is approached might begin to change.  While simulation may not provide the certainty that a mathematical model provides, it can help to understand a theory simply without the need for an actual experiment.  Simulation can also add human characteristics to the model to make the results more accurate, whereas utility functions provide the mathematical certainty but do not take into account human characteristics.  Hua, Schwartz, and Sipress again quote Focardi and Fabozzi saying \"The challenge to universities and business schools is to teach students to reason reigorously without constraining the teaching to a straightjacket of calculus\" (Hua, Schartz, Sipress, pp. 156).  Simulation can be added to the cirriculum to loosen the straightjacket and provide further options to economic testing."
   ]
  },
  {
   "cell_type": "markdown",
   "metadata": {},
   "source": [
    "## References"
   ]
  },
  {
   "cell_type": "markdown",
   "metadata": {},
   "source": [
    "Axelrod, Robert. \"Advancing the Art of Simulation in the Social Sciences.\" Lecture Notes in Economics and Mathematical Systems, Vol. 456, 1997. Springer, Berlin, Heidelberg. https://doi.org/10.1007/978-3-662-03366-1_2"
   ]
  },
  {
   "cell_type": "markdown",
   "metadata": {},
   "source": [
    "Buchanan, James M. \"What Should Economists Do?\". Southern Economic Journal, Vol. 30, No. 3 (Jan., 1964), pp. 213-222. http://www.jstor.org/stable/1055931"
   ]
  },
  {
   "cell_type": "markdown",
   "metadata": {},
   "source": [
    "Hua, Jian, Schwartz, Robert A., Sipress, Gregory. \"Using Simulation to Better Understand Price Determination in a Nonfrictionless Equity Market.\" The Journal of Portfolio Management, Vol. 44, No. 1 (2017), pp. 142-159."
   ]
  },
  {
   "cell_type": "markdown",
   "metadata": {},
   "source": [
    "Reiss, Julian. \"A Plea for (Good) Simulations: Nudging Economics Toward an Experimental Science.\" Simulation & Gaming, Vol. 42, No. 2 (2011), pp. 243-264. https://doi.org/10.1177/1046878110393941"
   ]
  },
  {
   "cell_type": "code",
   "execution_count": null,
   "metadata": {
    "collapsed": true
   },
   "outputs": [],
   "source": []
  }
 ],
 "metadata": {
  "kernelspec": {
   "display_name": "Python 3",
   "language": "python",
   "name": "python3"
  },
  "language_info": {
   "codemirror_mode": {
    "name": "ipython",
    "version": 3
   },
   "file_extension": ".py",
   "mimetype": "text/x-python",
   "name": "python",
   "nbconvert_exporter": "python",
   "pygments_lexer": "ipython3",
   "version": "3.6.1"
  }
 },
 "nbformat": 4,
 "nbformat_minor": 2
}
