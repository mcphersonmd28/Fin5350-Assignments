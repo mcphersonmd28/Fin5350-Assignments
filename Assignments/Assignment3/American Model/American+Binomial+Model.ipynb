{
 "cells": [
  {
   "cell_type": "markdown",
   "metadata": {},
   "source": [
    "## American Binomial Model"
   ]
  },
  {
   "cell_type": "code",
   "execution_count": 1,
   "metadata": {},
   "outputs": [
    {
     "name": "stdout",
     "output_type": "stream",
     "text": [
      "The price of the call is : 7.07385326128\n",
      "The price of the put is : 3.29294758539\n"
     ]
    }
   ],
   "source": [
    "import numpy as np\n",
    "from scipy.stats import binom\n",
    "\n",
    "class VanillaPayoff(object):\n",
    "    def __init__(self, strike, expiry):\n",
    "        self.strike = strike\n",
    "        self.expiry = expiry\n",
    "        \n",
    "    def value(self):\n",
    "        pass\n",
    "    \n",
    "class VanillaCallPayoff(VanillaPayoff):\n",
    "    def value(self, spot):\n",
    "        return np.maximum(spot-self.strike,0.0)\n",
    "    \n",
    "class VanillaPutPayoff(VanillaPayoff):\n",
    "    def value(self, spot):\n",
    "        return np.maximum(self.strike-spot, 0.0)\n",
    "\n",
    "def AmericanBinomialPricer(VanillaPayoff, spot, rate, div, vol, steps):\n",
    "    nodes = steps + 1\n",
    "    spotT = 0.0\n",
    "    callT = 0.0\n",
    "    dt = T/steps\n",
    "    u = np.exp(((rate - div) * dt) + vol * np.sqrt(dt))\n",
    "    d = np.exp(((rate - div) * dt) - vol * np.sqrt(dt))\n",
    "    pu = (np.exp((rate - div) * dt) - d) / (u - d)\n",
    "    pd = 1 - pu\n",
    "    disc = np.exp(-rate * dt)\n",
    "    dpu = disc * pu\n",
    "    dpd = disc * pd\n",
    "    \n",
    "    callT = np.zeros(nodes)\n",
    "    spotT = np.zeros(nodes)\n",
    "    \n",
    "    for i in range(nodes):\n",
    "        spotT[i] = spot * (u ** (steps - i)) * (d ** (i))\n",
    "        callT[i] = VanillaPayoff.value(spotT[i])\n",
    "    \n",
    "    for i in range((steps - 1), -1, -1):\n",
    "        for j in range(i + 1):\n",
    "            callT[j] = dpu * callT[j] + dpd * callT[j + 1]\n",
    "            spotT[j] = spotT[j] / u\n",
    "            callT[j] = np.maximum(callT[j], VanillaPayoff.value(spotT[j]))\n",
    "    \n",
    "    return callT[0]\n",
    "\n",
    "spot = 41.0\n",
    "K = 40.0\n",
    "rate = 0.08\n",
    "vol = 0.30\n",
    "div = 0.0\n",
    "T = 1.0\n",
    "steps = 3\n",
    "\n",
    "theCall = VanillaCallPayoff(K, T)\n",
    "callPrice = AmericanBinomialPricer(theCall, spot, rate, div, vol, steps)\n",
    "print(\"The price of the call is :\", (callPrice))\n",
    "\n",
    "thePut = VanillaPutPayoff(K, T)\n",
    "putPrice = AmericanBinomialPricer(thePut, spot, rate, div, vol, steps)\n",
    "print(\"The price of the put is :\", (putPrice))"
   ]
  },
  {
   "cell_type": "code",
   "execution_count": null,
   "metadata": {
    "collapsed": true
   },
   "outputs": [],
   "source": []
  }
 ],
 "metadata": {
  "kernelspec": {
   "display_name": "Python 3",
   "language": "python",
   "name": "python3"
  },
  "language_info": {
   "codemirror_mode": {
    "name": "ipython",
    "version": 3
   },
   "file_extension": ".py",
   "mimetype": "text/x-python",
   "name": "python",
   "nbconvert_exporter": "python",
   "pygments_lexer": "ipython3",
   "version": "3.6.1"
  }
 },
 "nbformat": 4,
 "nbformat_minor": 2
}
