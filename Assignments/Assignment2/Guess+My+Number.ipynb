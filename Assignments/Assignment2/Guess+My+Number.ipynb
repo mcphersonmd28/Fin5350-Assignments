{
 "cells": [
  {
   "cell_type": "markdown",
   "metadata": {},
   "source": [
    "# Guess My Number"
   ]
  },
  {
   "cell_type": "markdown",
   "metadata": {},
   "source": [
    "### I Guess the Computer's Number"
   ]
  },
  {
   "cell_type": "code",
   "execution_count": null,
   "metadata": {},
   "outputs": [
    {
     "name": "stdout",
     "output_type": "stream",
     "text": [
      "\tWelcome to 'Guess My Number'!\n",
      "\tI'm thinking of a number between 1 and 100.\n",
      "\tTry to guess it in as few attempts as possible.\n",
      "\n"
     ]
    }
   ],
   "source": [
    "import random\n",
    "\n",
    "def print_header():\n",
    "    print(\"\\tWelcome to 'Guess My Number'!\")\n",
    "    print(\"\\tI'm thinking of a number between 1 and 100.\")\n",
    "    print(\"\\tTry to guess it in as few attempts as possible.\\n\")\n",
    "\n",
    "def print_footer(the_number, tries):\n",
    "    print(\"You guessed it!  The number was\", the_number)\n",
    "    print(\"And it only took you\", tries, \"tries!\\n\")\n",
    "    print(\"\\n\\nPress the enter key to exit.\")\n",
    "\n",
    "def main():\n",
    "    #print the greeting banner\n",
    "    print_header()\n",
    "    \n",
    "    #set the initial values\n",
    "    the_number = random.randint(1,100)\n",
    "    guess = int(input(\"Take a guess: \"))\n",
    "    tries = 1\n",
    "    \n",
    "    #the game loop\n",
    "    while guess != the_number:\n",
    "        if guess > the_number:\n",
    "            print(\"Lower ...\")\n",
    "        else:\n",
    "            print(\"Higher ...\")\n",
    "        \n",
    "        guess = int(input(\"Take a guess :\"))\n",
    "        tries += 1\n",
    "    \n",
    "    print_footer(the_number, tries)\n",
    "\n",
    "if __name__ == \"__main__\":\n",
    "    main()"
   ]
  },
  {
   "cell_type": "markdown",
   "metadata": {
    "collapsed": true
   },
   "source": [
    "### The Computer Guesses My Number"
   ]
  },
  {
   "cell_type": "code",
   "execution_count": null,
   "metadata": {
    "collapsed": true
   },
   "outputs": [],
   "source": [
    "#The computer guesses my number\n",
    "\n",
    "def print_header():\n",
    "    print(\"\\tWelcome to 'Guess My Number'!\")\n",
    "    print(\"\\tI'm thinking of a number between 1 and 100.\")\n",
    "    print(\"\\tGive the computer hints with 'higher' and 'lower'\")\n",
    "    print(\"\\tOnce the guess is right, type 'correct'\")\n",
    "    print(\"\\tTry to guess it in as few attempts as possible.\\n\")\n",
    "\n",
    "def print_footer(guess, tries):\n",
    "    print(\"You guessed it!  The number was\", guess)\n",
    "    print(\"And it only took\", tries, \"tries!\\n\")\n",
    "    print(\"\\n\\nPress the enter key to exit.\")\n",
    "\n",
    "def response(answer):\n",
    "    input(\"Was this guess too high or too low?\")\n",
    "\n",
    "def main():#code goes here!\n",
    "    #print the header\n",
    "    print_header()\n",
    "    \n",
    "    #set the inital values\n",
    "    low = 0\n",
    "    upper = 100\n",
    "    guess = int((upper + low)/2)\n",
    "    tries = 1\n",
    "    answer = input(guess)\n",
    "    done = False\n",
    "    #the loo\n",
    "    while done != True:\n",
    "        if answer == \"higher\":\n",
    "            low = guess\n",
    "            guess = int((upper+low)/2)\n",
    "            answer = input(guess)\n",
    "        elif answer == \"lower\":\n",
    "            upper = guess\n",
    "            guess = int((upper+low)/2)\n",
    "            answer = input(guess)\n",
    "        elif answer == \"correct\":\n",
    "            done = True\n",
    "        tries +=1\n",
    "    \n",
    "    print_footer(guess, tries)\n",
    "    print(\"The computer's guess is\", guess, \". It's correct!\")\n",
    "        \n",
    "    \n",
    "if __name__ == \"__main__\":\n",
    "    main()"
   ]
  },
  {
   "cell_type": "code",
   "execution_count": null,
   "metadata": {
    "collapsed": true
   },
   "outputs": [],
   "source": []
  }
 ],
 "metadata": {
  "kernelspec": {
   "display_name": "Python 3",
   "language": "python",
   "name": "python3"
  },
  "language_info": {
   "codemirror_mode": {
    "name": "ipython",
    "version": 3
   },
   "file_extension": ".py",
   "mimetype": "text/x-python",
   "name": "python",
   "nbconvert_exporter": "python",
   "pygments_lexer": "ipython3",
   "version": "3.6.1"
  }
 },
 "nbformat": 4,
 "nbformat_minor": 2
}
