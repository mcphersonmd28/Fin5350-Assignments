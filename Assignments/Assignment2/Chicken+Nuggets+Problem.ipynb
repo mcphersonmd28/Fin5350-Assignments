{
 "cells": [
  {
   "cell_type": "markdown",
   "metadata": {},
   "source": [
    "## Chicken Nuggets Problem"
   ]
  },
  {
   "cell_type": "code",
   "execution_count": 2,
   "metadata": {},
   "outputs": [],
   "source": [
    "def is_nugget_number(candidate, small=6, medium=9, large=20):\n",
    "    for i in range(candidate//small + 1):\n",
    "        for j in range(candidate//medium + 1):\n",
    "            for k in range(candidate//large +1):\n",
    "                if(small*i + medium*j + large*k == candidate):\n",
    "                    return True\n",
    "                \n",
    "    \n",
    "    return False"
   ]
  },
  {
   "cell_type": "code",
   "execution_count": 3,
   "metadata": {},
   "outputs": [
    {
     "name": "stdout",
     "output_type": "stream",
     "text": [
      "The largest number of nuggets you cannot buy is: 43\n"
     ]
    }
   ],
   "source": [
    "def main():\n",
    "    small, medium, large = 6, 9, 20\n",
    "    count = 0\n",
    "    largest = small - 1\n",
    "    candidate = small\n",
    "    \n",
    "    while count != small:\n",
    "        if(is_nugget_number(candidate)):\n",
    "            count += 1\n",
    "        else:\n",
    "            largest = candidate\n",
    "            count = 0\n",
    "        candidate += 1\n",
    "        \n",
    "    print(\"The largest number of nuggets you cannot buy is: {0}\".format(largest))\n",
    "\n",
    "main()"
   ]
  },
  {
   "cell_type": "code",
   "execution_count": null,
   "metadata": {
    "collapsed": true
   },
   "outputs": [],
   "source": []
  }
 ],
 "metadata": {
  "kernelspec": {
   "display_name": "Python 3",
   "language": "python",
   "name": "python3"
  },
  "language_info": {
   "codemirror_mode": {
    "name": "ipython",
    "version": 3
   },
   "file_extension": ".py",
   "mimetype": "text/x-python",
   "name": "python",
   "nbconvert_exporter": "python",
   "pygments_lexer": "ipython3",
   "version": "3.6.1"
  }
 },
 "nbformat": 4,
 "nbformat_minor": 2
}
