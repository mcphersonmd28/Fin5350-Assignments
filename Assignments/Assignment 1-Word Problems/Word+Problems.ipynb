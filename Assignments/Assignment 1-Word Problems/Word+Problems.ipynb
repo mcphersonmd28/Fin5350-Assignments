{
 "cells": [
  {
   "cell_type": "markdown",
   "metadata": {},
   "source": [
    "# Word Problems"
   ]
  },
  {
   "cell_type": "markdown",
   "metadata": {},
   "source": [
    "## Word Problem 1"
   ]
  },
  {
   "cell_type": "code",
   "execution_count": null,
   "metadata": {
    "collapsed": true
   },
   "outputs": [],
   "source": [
    "print(\"Word Problem 1\")\n",
    "print(\"If a group of 5 students work on a project for 70 hours and they\")\n",
    "print(\"split the work evenly, how many hours does each student work?\")\n",
    "input(\"Press enter to find out.\")\n",
    "print(\"70 / 5 =\", 70 // 5)\n",
    "print(\"\")"
   ]
  },
  {
   "cell_type": "markdown",
   "metadata": {},
   "source": [
    "## Word Problem 2"
   ]
  },
  {
   "cell_type": "code",
   "execution_count": null,
   "metadata": {
    "collapsed": true
   },
   "outputs": [],
   "source": [
    "print(\"Word Problem 2\")\n",
    "print(\"If George orders 6 whole pizza cut into 12 slices each\")\n",
    "print(\"and he wants to eat pizza every day for the next 10 days\")\n",
    "print(\"how many slices of pizza should he eat per day?\")\n",
    "input(\"Press enter to find out.\")\n",
    "print(\"6 * 12 / 10 =\", 6 * 12 / 10)\n",
    "print(\"\")"
   ]
  },
  {
   "cell_type": "markdown",
   "metadata": {},
   "source": [
    "## Word Problem 3"
   ]
  },
  {
   "cell_type": "code",
   "execution_count": null,
   "metadata": {
    "collapsed": true
   },
   "outputs": [],
   "source": [
    "print(\"Word Problem 3\")\n",
    "print(\"Johnny wants to give his mother flowers for Mothers' Day.\")\n",
    "print(\"When he went to the flower shop, he saw that they had 200 flowers.\")\n",
    "print(\"Half of them were yellow and half of them were red.\")\n",
    "print(\"His mother likes red and yellow flowers the best.\")\n",
    "print(\"If Johnny wants to give his mother 20 flowers, how many of each color\")\n",
    "print(\"should he get?\")\n",
    "answer = input(\"Please input your answer here.\")\n",
    "print(\"answer\")\n",
    "if answer == \"10\":\n",
    "    print(\"Correct\")\n",
    "else:\n",
    "    print(\"Wrong\")\n",
    "input(\"Press enter to check your answer\")\n",
    "print(\"If one color is half of the total amount of flowers\")\n",
    "print(\"then each color needs to be half of the desired amount\")\n",
    "print(\"of 20.  Therefore, Johnny needs 10 red flowers and 10 yellow flowers\")\n",
    "print(\"\")"
   ]
  },
  {
   "cell_type": "markdown",
   "metadata": {},
   "source": [
    "## Word Problem 4"
   ]
  },
  {
   "cell_type": "code",
   "execution_count": null,
   "metadata": {
    "collapsed": true
   },
   "outputs": [],
   "source": [
    "print(\"Word Problem 4\")\n",
    "print(\"Holly works for a catering company and she has to set out plates for\")\n",
    "print(\"a wedding reception.  If there are 30 tables that seat 8 people each\")\n",
    "print(\"and Holly has 2 hours to set up, how many plates must she set every\")\n",
    "print(\"10 minutes?\")\n",
    "answer = input(\"Please input your answer here.\")\n",
    "print(\"answer\")\n",
    "if answer == \"20\":\n",
    "    print(\"Correct\")\n",
    "else:\n",
    "    print(\"Wrong\")\n",
    "input(\"Press enter to check your answer\")\n",
    "print(\"30 * 8 / 12 =\", 30 * 8 / 12)\n",
    "print(\"\")"
   ]
  },
  {
   "cell_type": "markdown",
   "metadata": {},
   "source": [
    "## Word Problem 5"
   ]
  },
  {
   "cell_type": "code",
   "execution_count": null,
   "metadata": {
    "collapsed": true
   },
   "outputs": [],
   "source": [
    "print(\"Word Problem 5\")\n",
    "print(\"Hank and Julia decide to make pasta to share with their neighbors.\")\n",
    "print(\"They decide to make 30 pounds of pasta.  If half a pound of pasta can\")\n",
    "print(\"can fit into a Tupperware container, how many neighbors can Hank and\")\n",
    "print(\"Julia give pasta to if they give one container to each neighbor?\")\n",
    "input(\"Press enter to find out.\")\n",
    "print(\"30 * 2 =\", 30 * 2)"
   ]
  },
  {
   "cell_type": "code",
   "execution_count": null,
   "metadata": {
    "collapsed": true
   },
   "outputs": [],
   "source": []
  }
 ],
 "metadata": {
  "kernelspec": {
   "display_name": "Python 3",
   "language": "python",
   "name": "python3"
  },
  "language_info": {
   "codemirror_mode": {
    "name": "ipython",
    "version": 3
   },
   "file_extension": ".py",
   "mimetype": "text/x-python",
   "name": "python",
   "nbconvert_exporter": "python",
   "pygments_lexer": "ipython3",
   "version": "3.6.1"
  }
 },
 "nbformat": 4,
 "nbformat_minor": 2
}
