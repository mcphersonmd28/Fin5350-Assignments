{
 "cells": [
  {
   "cell_type": "markdown",
   "metadata": {},
   "source": [
    "## Naive Monte Carlo Model"
   ]
  },
  {
   "cell_type": "code",
   "execution_count": 1,
   "metadata": {},
   "outputs": [
    {
     "ename": "NameError",
     "evalue": "name 'meanCall' is not defined",
     "output_type": "error",
     "traceback": [
      "\u001b[1;31m---------------------------------------------------------------------------\u001b[0m",
      "\u001b[1;31mNameError\u001b[0m                                 Traceback (most recent call last)",
      "\u001b[1;32m<ipython-input-1-978dd481c95a>\u001b[0m in \u001b[0;36m<module>\u001b[1;34m()\u001b[0m\n\u001b[0;32m     46\u001b[0m \u001b[0mT\u001b[0m \u001b[1;33m=\u001b[0m \u001b[1;36m1.0\u001b[0m\u001b[1;33m\u001b[0m\u001b[0m\n\u001b[0;32m     47\u001b[0m \u001b[0mN\u001b[0m \u001b[1;33m=\u001b[0m \u001b[1;36m3\u001b[0m\u001b[1;33m\u001b[0m\u001b[0m\n\u001b[1;32m---> 48\u001b[1;33m \u001b[0mcallPrc\u001b[0m \u001b[1;33m=\u001b[0m \u001b[0mnp\u001b[0m\u001b[1;33m.\u001b[0m\u001b[0mexp\u001b[0m\u001b[1;33m(\u001b[0m\u001b[1;33m-\u001b[0m\u001b[0mrate\u001b[0m \u001b[1;33m*\u001b[0m \u001b[0mT\u001b[0m\u001b[1;33m)\u001b[0m \u001b[1;33m*\u001b[0m \u001b[0mmeanCall\u001b[0m\u001b[1;33m\u001b[0m\u001b[0m\n\u001b[0m\u001b[0;32m     49\u001b[0m \u001b[0mputPrc\u001b[0m \u001b[1;33m=\u001b[0m \u001b[0mnp\u001b[0m\u001b[1;33m.\u001b[0m\u001b[0mexp\u001b[0m\u001b[1;33m(\u001b[0m\u001b[1;33m-\u001b[0m\u001b[0mrate\u001b[0m \u001b[1;33m*\u001b[0m \u001b[0mT\u001b[0m\u001b[1;33m)\u001b[0m \u001b[1;33m*\u001b[0m \u001b[0mmeanPut\u001b[0m\u001b[1;33m\u001b[0m\u001b[0m\n\u001b[0;32m     50\u001b[0m \u001b[1;33m\u001b[0m\u001b[0m\n",
      "\u001b[1;31mNameError\u001b[0m: name 'meanCall' is not defined"
     ]
    }
   ],
   "source": [
    "import numpy as np\n",
    "from scipy.stats import binom\n",
    "\n",
    "class VanillaPayoff(object):\n",
    "    def __init__(self, strike, expiry):\n",
    "        self.strike = strike\n",
    "        self.expiry = expiry\n",
    "    def value(self):\n",
    "        pass\n",
    "    \n",
    "class VanillaCallPayoff(VanillaPayoff):\n",
    "    def value(self, spot):\n",
    "        return np.maximum(spot-self.strike,0.0)\n",
    "    \n",
    "class VanillaPutPayoff(VanillaPayoff):\n",
    "    def value(self, spot):\n",
    "        return np.maximum(self.strike-spot, 0.0)\n",
    "\n",
    "def NaiveMonteCarloPricer(option, spot, rate, div, vol, steps):\n",
    "    nodes = steps + 1\n",
    "    M = 1000000\n",
    "    spot_t = np.empty((M,))\n",
    "    call_t = 0.0\n",
    "    nudt = (rate - div - 0.5 * vol * vol) * T\n",
    "    sigdt = vol * np.sqrt(T)\n",
    "    z = np.random.normal(size=(M,))\n",
    "    disc = np.exp(-rate * dt)\n",
    "    \n",
    "    \n",
    "    spotT = spot * np.exp(nudt + sigdt * z)\n",
    "    \n",
    "    #payoffT = option.payoff(spotT)\n",
    "    #prc = payoffT.mean() * disc\n",
    "    \n",
    "    meanCall = call_t.mean()\n",
    "    put_t = VanillaPutPayoff(spot_t, k)\n",
    "    meanPut = put_t.mean()\n",
    "    prc = payoff.mean() * disc\n",
    "    return prc\n",
    "\n",
    "spot = 41.0\n",
    "K = 40.0\n",
    "rate = 0.08\n",
    "vol = 0.30\n",
    "div = 0.0\n",
    "T = 1.0\n",
    "N = 3\n",
    "callPrc = np.exp(-rate * T) * meanCall\n",
    "putPrc = np.exp(-rate * T) * meanPut\n",
    "\n",
    "#theCall = VanillaCallPayoff(K, T)\n",
    "#callPrice = NaiveMonteCarloPricer(theCall, spot, rate, div, vol, steps)\n",
    "#print(\"The price of the call is:\" , callPrice)\n",
    "\n",
    "#thePut = VanillaPutPayoff(K,T)\n",
    "#putPrice = NaiveMonteCarloPricer(thePut, spot rate, div, vol, steps)\n",
    "#print(\"The price of the put is:\" , putPrice)\n",
    "\n",
    "callPrc\n",
    "putPrc"
   ]
  },
  {
   "cell_type": "code",
   "execution_count": null,
   "metadata": {
    "collapsed": true
   },
   "outputs": [],
   "source": []
  }
 ],
 "metadata": {
  "kernelspec": {
   "display_name": "Python 3",
   "language": "python",
   "name": "python3"
  },
  "language_info": {
   "codemirror_mode": {
    "name": "ipython",
    "version": 3
   },
   "file_extension": ".py",
   "mimetype": "text/x-python",
   "name": "python",
   "nbconvert_exporter": "python",
   "pygments_lexer": "ipython3",
   "version": "3.6.1"
  }
 },
 "nbformat": 4,
 "nbformat_minor": 2
}
